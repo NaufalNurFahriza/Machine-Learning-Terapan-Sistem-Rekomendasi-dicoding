{
  "cells": [
    {
      "cell_type": "markdown",
      "metadata": {
        "id": "UGfrzTBZBJwZ"
      },
      "source": [
        "# Sistem Rekomendasi Anime dengan Content-Based Filtering\n",
        "\n",
        "Notebook ini berisi implementasi sistem rekomendasi anime menggunakan pendekatan Content-Based Filtering. Dataset yang digunakan adalah Top Anime Dataset 2024 dari Kaggle."
      ]
    },
    {
      "cell_type": "markdown",
      "metadata": {
        "id": "GedxsuorBJwa"
      },
      "source": [
        "## 1. Import Libraries\n",
        "\n",
        "Mengimpor library yang diperlukan untuk analisis data, visualisasi, dan pembuatan sistem rekomendasi."
      ]
    },
    {
      "cell_type": "code",
      "execution_count": 5,
      "metadata": {
        "id": "TP7C-sV_BJwb"
      },
      "outputs": [],
      "source": [
        "import pandas as pd\n",
        "import numpy as np\n",
        "import seaborn as sns\n",
        "import matplotlib.pyplot as plt\n",
        "from sklearn.feature_extraction.text import TfidfVectorizer\n",
        "from sklearn.metrics.pairwise import cosine_similarity\n",
        "from scipy.sparse import save_npz\n",
        "import joblib\n",
        "import warnings\n",
        "import re\n",
        "import string\n",
        "warnings.filterwarnings('ignore')"
      ]
    },
    {
      "cell_type": "markdown",
      "source": [
        "Pada bagian ini, kita mengimpor berbagai library yang dibutuhkan untuk melakukan analisis data, visualisasi, dan membangun sistem rekomendasi. Berikut fungsi masing-masing library:\n",
        "\n",
        "* `pandas` dan `numpy`: Digunakan untuk manipulasi dan analisis data dalam bentuk tabel dan array.\n",
        "* `seaborn` dan `matplotlib.pyplot`: Digunakan untuk membuat visualisasi data seperti grafik dan plot.\n",
        "* `TfidfVectorizer` dari `sklearn.feature_extraction.text`: Digunakan untuk mengubah data teks (seperti deskripsi anime) menjadi representasi numerik berbasis TF-IDF.\n",
        "* `cosine_similarity` dari `sklearn.metrics.pairwise`: Digunakan untuk menghitung kemiripan antar anime berdasarkan deskripsi atau genre.\n",
        "* `save_npz` dari `scipy.sparse`: Digunakan untuk menyimpan matriks hasil transformasi TF-IDF dalam format yang efisien.\n",
        "* `joblib`: Untuk menyimpan dan memuat model atau objek Python lainnya.\n",
        "* `warnings`: Untuk menyembunyikan peringatan agar output notebook lebih bersih.\n",
        "* `re` dan `string`: Digunakan untuk pembersihan teks seperti menghapus tanda baca dan karakter khusus.\n",
        "\n",
        "Dengan semua library ini, kita dapat melanjutkan proses preprocessing data, ekstraksi fitur, hingga membangun sistem rekomendasi berbasis konten."
      ],
      "metadata": {
        "id": "lg6P8SNcEX9W"
      }
    },
    {
      "cell_type": "markdown",
      "metadata": {
        "id": "RLRAPJLuBJwb"
      },
      "source": [
        "## 2. Data Loading\n",
        "\n",
        "Memuat dataset `Top_Anime_data.csv` yang berisi informasi tentang anime populer tahun 2024."
      ]
    },
    {
      "cell_type": "code",
      "source": [
        "# Install & setup Kaggle\n",
        "!pip install -q kaggle\n",
        "from google.colab import files\n",
        "files.upload()  # Upload kaggle.json\n",
        "!mkdir -p ~/.kaggle && cp kaggle.json ~/.kaggle/ && chmod 600 ~/.kaggle/kaggle.json"
      ],
      "metadata": {
        "colab": {
          "base_uri": "https://localhost:8080/",
          "height": 71
        },
        "id": "JulMbcLwBWAC",
        "outputId": "8e7405cf-036f-4ce1-d13b-d123ecda8682"
      },
      "execution_count": 2,
      "outputs": [
        {
          "output_type": "display_data",
          "data": {
            "text/plain": [
              "<IPython.core.display.HTML object>"
            ],
            "text/html": [
              "\n",
              "     <input type=\"file\" id=\"files-2529b2a6-752c-43a3-a0ae-4710b50cd6a5\" name=\"files[]\" multiple disabled\n",
              "        style=\"border:none\" />\n",
              "     <output id=\"result-2529b2a6-752c-43a3-a0ae-4710b50cd6a5\">\n",
              "      Upload widget is only available when the cell has been executed in the\n",
              "      current browser session. Please rerun this cell to enable.\n",
              "      </output>\n",
              "      <script>// Copyright 2017 Google LLC\n",
              "//\n",
              "// Licensed under the Apache License, Version 2.0 (the \"License\");\n",
              "// you may not use this file except in compliance with the License.\n",
              "// You may obtain a copy of the License at\n",
              "//\n",
              "//      http://www.apache.org/licenses/LICENSE-2.0\n",
              "//\n",
              "// Unless required by applicable law or agreed to in writing, software\n",
              "// distributed under the License is distributed on an \"AS IS\" BASIS,\n",
              "// WITHOUT WARRANTIES OR CONDITIONS OF ANY KIND, either express or implied.\n",
              "// See the License for the specific language governing permissions and\n",
              "// limitations under the License.\n",
              "\n",
              "/**\n",
              " * @fileoverview Helpers for google.colab Python module.\n",
              " */\n",
              "(function(scope) {\n",
              "function span(text, styleAttributes = {}) {\n",
              "  const element = document.createElement('span');\n",
              "  element.textContent = text;\n",
              "  for (const key of Object.keys(styleAttributes)) {\n",
              "    element.style[key] = styleAttributes[key];\n",
              "  }\n",
              "  return element;\n",
              "}\n",
              "\n",
              "// Max number of bytes which will be uploaded at a time.\n",
              "const MAX_PAYLOAD_SIZE = 100 * 1024;\n",
              "\n",
              "function _uploadFiles(inputId, outputId) {\n",
              "  const steps = uploadFilesStep(inputId, outputId);\n",
              "  const outputElement = document.getElementById(outputId);\n",
              "  // Cache steps on the outputElement to make it available for the next call\n",
              "  // to uploadFilesContinue from Python.\n",
              "  outputElement.steps = steps;\n",
              "\n",
              "  return _uploadFilesContinue(outputId);\n",
              "}\n",
              "\n",
              "// This is roughly an async generator (not supported in the browser yet),\n",
              "// where there are multiple asynchronous steps and the Python side is going\n",
              "// to poll for completion of each step.\n",
              "// This uses a Promise to block the python side on completion of each step,\n",
              "// then passes the result of the previous step as the input to the next step.\n",
              "function _uploadFilesContinue(outputId) {\n",
              "  const outputElement = document.getElementById(outputId);\n",
              "  const steps = outputElement.steps;\n",
              "\n",
              "  const next = steps.next(outputElement.lastPromiseValue);\n",
              "  return Promise.resolve(next.value.promise).then((value) => {\n",
              "    // Cache the last promise value to make it available to the next\n",
              "    // step of the generator.\n",
              "    outputElement.lastPromiseValue = value;\n",
              "    return next.value.response;\n",
              "  });\n",
              "}\n",
              "\n",
              "/**\n",
              " * Generator function which is called between each async step of the upload\n",
              " * process.\n",
              " * @param {string} inputId Element ID of the input file picker element.\n",
              " * @param {string} outputId Element ID of the output display.\n",
              " * @return {!Iterable<!Object>} Iterable of next steps.\n",
              " */\n",
              "function* uploadFilesStep(inputId, outputId) {\n",
              "  const inputElement = document.getElementById(inputId);\n",
              "  inputElement.disabled = false;\n",
              "\n",
              "  const outputElement = document.getElementById(outputId);\n",
              "  outputElement.innerHTML = '';\n",
              "\n",
              "  const pickedPromise = new Promise((resolve) => {\n",
              "    inputElement.addEventListener('change', (e) => {\n",
              "      resolve(e.target.files);\n",
              "    });\n",
              "  });\n",
              "\n",
              "  const cancel = document.createElement('button');\n",
              "  inputElement.parentElement.appendChild(cancel);\n",
              "  cancel.textContent = 'Cancel upload';\n",
              "  const cancelPromise = new Promise((resolve) => {\n",
              "    cancel.onclick = () => {\n",
              "      resolve(null);\n",
              "    };\n",
              "  });\n",
              "\n",
              "  // Wait for the user to pick the files.\n",
              "  const files = yield {\n",
              "    promise: Promise.race([pickedPromise, cancelPromise]),\n",
              "    response: {\n",
              "      action: 'starting',\n",
              "    }\n",
              "  };\n",
              "\n",
              "  cancel.remove();\n",
              "\n",
              "  // Disable the input element since further picks are not allowed.\n",
              "  inputElement.disabled = true;\n",
              "\n",
              "  if (!files) {\n",
              "    return {\n",
              "      response: {\n",
              "        action: 'complete',\n",
              "      }\n",
              "    };\n",
              "  }\n",
              "\n",
              "  for (const file of files) {\n",
              "    const li = document.createElement('li');\n",
              "    li.append(span(file.name, {fontWeight: 'bold'}));\n",
              "    li.append(span(\n",
              "        `(${file.type || 'n/a'}) - ${file.size} bytes, ` +\n",
              "        `last modified: ${\n",
              "            file.lastModifiedDate ? file.lastModifiedDate.toLocaleDateString() :\n",
              "                                    'n/a'} - `));\n",
              "    const percent = span('0% done');\n",
              "    li.appendChild(percent);\n",
              "\n",
              "    outputElement.appendChild(li);\n",
              "\n",
              "    const fileDataPromise = new Promise((resolve) => {\n",
              "      const reader = new FileReader();\n",
              "      reader.onload = (e) => {\n",
              "        resolve(e.target.result);\n",
              "      };\n",
              "      reader.readAsArrayBuffer(file);\n",
              "    });\n",
              "    // Wait for the data to be ready.\n",
              "    let fileData = yield {\n",
              "      promise: fileDataPromise,\n",
              "      response: {\n",
              "        action: 'continue',\n",
              "      }\n",
              "    };\n",
              "\n",
              "    // Use a chunked sending to avoid message size limits. See b/62115660.\n",
              "    let position = 0;\n",
              "    do {\n",
              "      const length = Math.min(fileData.byteLength - position, MAX_PAYLOAD_SIZE);\n",
              "      const chunk = new Uint8Array(fileData, position, length);\n",
              "      position += length;\n",
              "\n",
              "      const base64 = btoa(String.fromCharCode.apply(null, chunk));\n",
              "      yield {\n",
              "        response: {\n",
              "          action: 'append',\n",
              "          file: file.name,\n",
              "          data: base64,\n",
              "        },\n",
              "      };\n",
              "\n",
              "      let percentDone = fileData.byteLength === 0 ?\n",
              "          100 :\n",
              "          Math.round((position / fileData.byteLength) * 100);\n",
              "      percent.textContent = `${percentDone}% done`;\n",
              "\n",
              "    } while (position < fileData.byteLength);\n",
              "  }\n",
              "\n",
              "  // All done.\n",
              "  yield {\n",
              "    response: {\n",
              "      action: 'complete',\n",
              "    }\n",
              "  };\n",
              "}\n",
              "\n",
              "scope.google = scope.google || {};\n",
              "scope.google.colab = scope.google.colab || {};\n",
              "scope.google.colab._files = {\n",
              "  _uploadFiles,\n",
              "  _uploadFilesContinue,\n",
              "};\n",
              "})(self);\n",
              "</script> "
            ]
          },
          "metadata": {}
        },
        {
          "output_type": "stream",
          "name": "stdout",
          "text": [
            "Saving kaggle.json to kaggle.json\n"
          ]
        }
      ]
    },
    {
      "cell_type": "code",
      "source": [
        "# Download & extract dataset\n",
        "!kaggle datasets download -d bhavyadhingra00020/top-anime-dataset-2024\n",
        "\n",
        "# Ekstrak file ZIP\n",
        "import zipfile\n",
        "with zipfile.ZipFile('top-anime-dataset-2024.zip', 'r') as z:\n",
        "    z.extractall('.')\n"
      ],
      "metadata": {
        "colab": {
          "base_uri": "https://localhost:8080/"
        },
        "id": "NYMIa0lbCL08",
        "outputId": "ce5ca000-14b5-4a80-fa94-6dac53ba9554"
      },
      "execution_count": 7,
      "outputs": [
        {
          "output_type": "stream",
          "name": "stdout",
          "text": [
            "Dataset URL: https://www.kaggle.com/datasets/bhavyadhingra00020/top-anime-dataset-2024\n",
            "License(s): apache-2.0\n",
            "top-anime-dataset-2024.zip: Skipping, found more recently modified local copy (use --force to force download)\n"
          ]
        }
      ]
    },
    {
      "cell_type": "code",
      "source": [
        "# Load data dengan fallback encoding\n",
        "for enc in ['utf-8', 'ISO-8859-1', 'latin1']:\n",
        "    try:\n",
        "        anime_df = pd.read_csv('Top_Anime_data.csv', encoding=enc)\n",
        "        print(f\"Data berhasil dimuat dengan encoding: {enc}\")\n",
        "        break\n",
        "    except:\n",
        "        continue"
      ],
      "metadata": {
        "colab": {
          "base_uri": "https://localhost:8080/"
        },
        "id": "qdi3Y0VdCRrj",
        "outputId": "5f6504ea-c2db-4d86-8bb7-96f193ef6e42"
      },
      "execution_count": 29,
      "outputs": [
        {
          "output_type": "stream",
          "name": "stdout",
          "text": [
            "Data berhasil dimuat dengan encoding: utf-8\n"
          ]
        }
      ]
    },
    {
      "cell_type": "markdown",
      "source": [
        "Pada bagian ini, dilakukan proses pemuatan dataset `Top_Anime_data.csv` yang berisi informasi tentang anime-anime populer tahun 2024. Dataset ini bersumber dari Kaggle dan memuat atribut penting seperti judul, skor, genre, deskripsi, studio, jumlah episode, dan lainnya.\n",
        "\n",
        "Langkah-langkah yang dilakukan dalam proses ini:\n",
        "\n",
        "* **Instalasi dan Setup Kaggle API**\n",
        "  Menginstal library `kaggle` dan mengunggah file `kaggle.json` (file autentikasi dari akun Kaggle). File ini disalin ke direktori `~/.kaggle/` dan diberikan izin akses agar dapat digunakan oleh API.\n",
        "\n",
        "* **Mengunduh dan Mengekstrak Dataset**\n",
        "  Dataset diunduh dari Kaggle menggunakan perintah `!kaggle datasets download`. File ZIP hasil unduhan kemudian diekstrak untuk memperoleh file `.csv` yang akan digunakan.\n",
        "\n",
        "* **Memuat Dataset dengan Fallback Encoding**\n",
        "  File `Top_Anime_data.csv` dimuat menggunakan beberapa opsi encoding (`utf-8`, `ISO-8859-1`, dan `latin1`) untuk menghindari error pembacaan file akibat karakter non-standar. Encoding `utf-8` berhasil digunakan dalam kasus ini.\n",
        "\n",
        "Setelah berhasil dimuat, dataset disimpan dalam variabel `anime_df` dan siap digunakan untuk eksplorasi dan preprocessing lebih lanjut.\n",
        "\n"
      ],
      "metadata": {
        "id": "T8ycroz8FGiI"
      }
    },
    {
      "cell_type": "code",
      "execution_count": 30,
      "metadata": {
        "colab": {
          "base_uri": "https://localhost:8080/"
        },
        "id": "RLxfR0ZdBJwc",
        "outputId": "9376ac2b-6f1d-44d3-de79-2e458931f1b8"
      },
      "outputs": [
        {
          "output_type": "stream",
          "name": "stdout",
          "text": [
            "<class 'pandas.core.frame.DataFrame'>\n",
            "RangeIndex: 1000 entries, 0 to 999\n",
            "Data columns (total 22 columns):\n",
            " #   Column       Non-Null Count  Dtype  \n",
            "---  ------       --------------  -----  \n",
            " 0   Score        1000 non-null   float64\n",
            " 1   Popularity   1000 non-null   int64  \n",
            " 2   Rank         1000 non-null   int64  \n",
            " 3   Members      1000 non-null   int64  \n",
            " 4   Description  1000 non-null   object \n",
            " 5   Synonyms     709 non-null    object \n",
            " 6   Japanese     999 non-null    object \n",
            " 7   English      859 non-null    object \n",
            " 8   Type         1000 non-null   object \n",
            " 9   Episodes     1000 non-null   object \n",
            " 10  Status       1000 non-null   object \n",
            " 11  Aired        1000 non-null   object \n",
            " 12  Premiered    569 non-null    object \n",
            " 13  Broadcast    569 non-null    object \n",
            " 14  Producers    1000 non-null   object \n",
            " 15  Licensors    1000 non-null   object \n",
            " 16  Studios      1000 non-null   object \n",
            " 17  Source       1000 non-null   object \n",
            " 18  Genres       771 non-null    object \n",
            " 19  Demographic  521 non-null    object \n",
            " 20  Duration     1000 non-null   object \n",
            " 21  Rating       1000 non-null   object \n",
            "dtypes: float64(1), int64(3), object(18)\n",
            "memory usage: 172.0+ KB\n"
          ]
        }
      ],
      "source": [
        "# Informasi umum dataset\n",
        "anime_df.info()"
      ]
    },
    {
      "cell_type": "markdown",
      "source": [
        "Dari hasil `anime_df.info()` di atas, dapat disimpulkan bahwa:\n",
        "\n",
        "* Dataset terdiri dari **1000 entri** dan **22 kolom fitur** yang mencakup berbagai informasi tentang anime, seperti skor, peringkat, deskripsi, genre, studio, durasi, dan lainnya.\n",
        "* Sebagian besar kolom bertipe data `object` (teks), namun terdapat juga kolom numerik seperti `Score`, `Popularity`, `Rank`, dan `Members`.\n",
        "* Beberapa kolom memiliki nilai yang **tidak lengkap (missing values)**, terutama pada:\n",
        "\n",
        "  * `Synonyms`, `Japanese`, `English`\n",
        "  * `Premiered`, `Broadcast`, `Genres`, `Demographic`\n",
        "* Informasi ini penting untuk memahami struktur data dan mempersiapkan proses *data cleaning* sebelum melakukan analisis atau pembuatan model rekomendasi.\n",
        "\n",
        "Langkah selanjutnya adalah melakukan eksplorasi lebih lanjut terhadap isi dataset dan mengidentifikasi kolom-kolom yang relevan untuk sistem rekomendasi berbasis konten.\n"
      ],
      "metadata": {
        "id": "yRDqKBF1FhaI"
      }
    },
    {
      "cell_type": "code",
      "execution_count": 31,
      "metadata": {
        "colab": {
          "base_uri": "https://localhost:8080/"
        },
        "id": "DZfFGNsqBJwc",
        "outputId": "37bf9d72-374b-4630-8e63-7a57de9fc274"
      },
      "outputs": [
        {
          "output_type": "stream",
          "name": "stdout",
          "text": [
            "=== ANALISIS MISSING VALUES (DATA ASLI) ===\n",
            "Missing values per kolom:\n",
            "- Score: 1000 non-null, 0 missing\n",
            "- Popularity: 1000 non-null, 0 missing\n",
            "- Rank: 1000 non-null, 0 missing\n",
            "- Members: 1000 non-null, 0 missing\n",
            "- Description: 1000 non-null, 0 missing\n",
            "- Synonyms: 709 non-null, 291 missing\n",
            "- Japanese: 999 non-null, 1 missing\n",
            "- English: 859 non-null, 141 missing\n",
            "- Type: 1000 non-null, 0 missing\n",
            "- Episodes: 1000 non-null, 0 missing\n",
            "- Status: 1000 non-null, 0 missing\n",
            "- Aired: 1000 non-null, 0 missing\n",
            "- Premiered: 569 non-null, 431 missing\n",
            "- Broadcast: 569 non-null, 431 missing\n",
            "- Producers: 1000 non-null, 0 missing\n",
            "- Licensors: 1000 non-null, 0 missing\n",
            "- Studios: 1000 non-null, 0 missing\n",
            "- Source: 1000 non-null, 0 missing\n",
            "- Genres: 771 non-null, 229 missing\n",
            "- Demographic: 521 non-null, 479 missing\n",
            "- Duration: 1000 non-null, 0 missing\n",
            "- Rating: 1000 non-null, 0 missing\n"
          ]
        }
      ],
      "source": [
        "# Analisis missing values dari data ASLI (sebelum preprocessing)\n",
        "print(\"=== ANALISIS MISSING VALUES (DATA ASLI) ===\")\n",
        "missing_info = anime_df.isnull().sum()\n",
        "print(\"Missing values per kolom:\")\n",
        "for col in anime_df.columns:\n",
        "    missing_count = missing_info[col]\n",
        "    non_null_count = anime_df.shape[0] - missing_count\n",
        "    print(f\"- {col}: {non_null_count} non-null, {missing_count} missing\")"
      ]
    },
    {
      "cell_type": "markdown",
      "source": [
        "Pada tahap ini dilakukan analisis terhadap nilai yang hilang (*missing values*) dalam dataset sebelum dilakukan preprocessing. Dari hasil yang ditampilkan, dapat disimpulkan:\n",
        "\n",
        "* Sebagian besar kolom tidak memiliki missing values, seperti: `Score`, `Popularity`, `Rank`, `Members`, `Description`, `Type`, `Episodes`, `Status`, `Aired`, `Producers`, `Licensors`, `Studios`, `Source`, `Duration`, dan `Rating`.\n",
        "* Namun, terdapat beberapa kolom yang memiliki jumlah nilai kosong cukup signifikan, antara lain:\n",
        "\n",
        "  * `Synonyms`: 291 nilai kosong\n",
        "  * `English`: 141 nilai kosong\n",
        "  * `Premiered` dan `Broadcast`: masing-masing 431 nilai kosong\n",
        "  * `Genres`: 229 nilai kosong\n",
        "  * `Demographic`: 479 nilai kosong\n",
        "* Informasi ini akan digunakan untuk menentukan strategi penanganan data kosong seperti:\n",
        "\n",
        "  * Menghapus kolom atau baris tertentu\n",
        "  * Mengisi nilai kosong dengan nilai default atau strategi lain (misalnya \"Unknown\")\n",
        "\n",
        "Analisis ini sangat penting agar model yang dikembangkan tidak terganggu oleh data yang tidak lengkap, serta memastikan kualitas data yang digunakan dalam sistem rekomendasi.\n"
      ],
      "metadata": {
        "id": "wggIYyv9F820"
      }
    },
    {
      "cell_type": "code",
      "execution_count": 32,
      "metadata": {
        "colab": {
          "base_uri": "https://localhost:8080/"
        },
        "id": "QM5vCDOMBJwd",
        "outputId": "bdf659e9-b80e-4246-e6f1-8817e98a8ca0"
      },
      "outputs": [
        {
          "output_type": "stream",
          "name": "stdout",
          "text": [
            "\n",
            "Informasi detail kolom utama:\n",
            "- English: 859 non-null dari 1000 total\n",
            "- Genres: 771 non-null dari 1000 total\n",
            "- Type: 1000 non-null dari 1000 total\n",
            "- Description: 1000 non-null dari 1000 total\n"
          ]
        }
      ],
      "source": [
        "# Informasi detail untuk kolom utama\n",
        "print(f\"\\nInformasi detail kolom utama:\")\n",
        "print(f\"- English: {anime_df['English'].count()} non-null dari {len(anime_df)} total\")\n",
        "print(f\"- Genres: {anime_df['Genres'].count()} non-null dari {len(anime_df)} total\")\n",
        "print(f\"- Type: {anime_df['Type'].count()} non-null dari {len(anime_df)} total\")\n",
        "print(f\"- Description: {anime_df['Description'].count()} non-null dari {len(anime_df)} total\")"
      ]
    },
    {
      "cell_type": "markdown",
      "source": [
        "\n",
        "Analisis ini difokuskan pada beberapa **kolom utama** yang akan digunakan dalam sistem rekomendasi berbasis konten, yaitu `English`, `Genres`, `Type`, dan `Description`.\n",
        "\n",
        "Hasilnya menunjukkan:\n",
        "\n",
        "* **English**: Hanya 859 dari 1000 entri yang memiliki judul dalam bahasa Inggris. Artinya, terdapat 141 anime yang hanya memiliki judul dalam bahasa Jepang atau nama alternatif.\n",
        "* **Genres**: Terdapat 771 entri yang memiliki informasi genre, sedangkan 229 entri tidak memiliki label genre. Ini perlu diperhatikan karena genre menjadi salah satu fitur utama dalam content-based filtering.\n",
        "* **Type** dan **Description**: Keduanya lengkap (1000/1000), sehingga dapat digunakan tanpa perlu penanganan missing values.\n",
        "\n",
        "Informasi ini menjadi dasar untuk menentukan strategi preprocessing, seperti:\n",
        "\n",
        "* Mengisi nilai kosong dengan string `\"Unknown\"` atau menghapus baris yang tidak memiliki nilai penting.\n",
        "* Menggunakan `Description` dan/atau `Genres` sebagai fitur utama dalam proses ekstraksi fitur teks menggunakan TF-IDF.\n",
        "\n"
      ],
      "metadata": {
        "id": "M4UdydsKIsvT"
      }
    },
    {
      "cell_type": "code",
      "execution_count": 15,
      "metadata": {
        "colab": {
          "base_uri": "https://localhost:8080/",
          "height": 300
        },
        "id": "Nl1Vd-GnBJwe",
        "outputId": "2ee5e9e6-84ad-4b9b-9684-f67901bf42da"
      },
      "outputs": [
        {
          "output_type": "execute_result",
          "data": {
            "text/plain": [
              "             Score    Popularity         Rank      Members\n",
              "count  1000.000000   1000.000000  1000.000000  1000.000000\n",
              "mean      8.156580   1805.637000   500.500000   223.648000\n",
              "std       0.284344   1888.308553   288.819436   246.288299\n",
              "min       7.800000      1.000000     1.000000     1.000000\n",
              "25%       7.920000    413.750000   250.750000    31.750000\n",
              "50%       8.100000   1139.500000   500.500000   132.000000\n",
              "75%       8.312500   2633.750000   750.250000   330.000000\n",
              "max       9.380000  12043.000000  1000.000000   998.000000"
            ],
            "text/html": [
              "\n",
              "  <div id=\"df-1267a287-0979-4d32-9273-cfa247a254e0\" class=\"colab-df-container\">\n",
              "    <div>\n",
              "<style scoped>\n",
              "    .dataframe tbody tr th:only-of-type {\n",
              "        vertical-align: middle;\n",
              "    }\n",
              "\n",
              "    .dataframe tbody tr th {\n",
              "        vertical-align: top;\n",
              "    }\n",
              "\n",
              "    .dataframe thead th {\n",
              "        text-align: right;\n",
              "    }\n",
              "</style>\n",
              "<table border=\"1\" class=\"dataframe\">\n",
              "  <thead>\n",
              "    <tr style=\"text-align: right;\">\n",
              "      <th></th>\n",
              "      <th>Score</th>\n",
              "      <th>Popularity</th>\n",
              "      <th>Rank</th>\n",
              "      <th>Members</th>\n",
              "    </tr>\n",
              "  </thead>\n",
              "  <tbody>\n",
              "    <tr>\n",
              "      <th>count</th>\n",
              "      <td>1000.000000</td>\n",
              "      <td>1000.000000</td>\n",
              "      <td>1000.000000</td>\n",
              "      <td>1000.000000</td>\n",
              "    </tr>\n",
              "    <tr>\n",
              "      <th>mean</th>\n",
              "      <td>8.156580</td>\n",
              "      <td>1805.637000</td>\n",
              "      <td>500.500000</td>\n",
              "      <td>223.648000</td>\n",
              "    </tr>\n",
              "    <tr>\n",
              "      <th>std</th>\n",
              "      <td>0.284344</td>\n",
              "      <td>1888.308553</td>\n",
              "      <td>288.819436</td>\n",
              "      <td>246.288299</td>\n",
              "    </tr>\n",
              "    <tr>\n",
              "      <th>min</th>\n",
              "      <td>7.800000</td>\n",
              "      <td>1.000000</td>\n",
              "      <td>1.000000</td>\n",
              "      <td>1.000000</td>\n",
              "    </tr>\n",
              "    <tr>\n",
              "      <th>25%</th>\n",
              "      <td>7.920000</td>\n",
              "      <td>413.750000</td>\n",
              "      <td>250.750000</td>\n",
              "      <td>31.750000</td>\n",
              "    </tr>\n",
              "    <tr>\n",
              "      <th>50%</th>\n",
              "      <td>8.100000</td>\n",
              "      <td>1139.500000</td>\n",
              "      <td>500.500000</td>\n",
              "      <td>132.000000</td>\n",
              "    </tr>\n",
              "    <tr>\n",
              "      <th>75%</th>\n",
              "      <td>8.312500</td>\n",
              "      <td>2633.750000</td>\n",
              "      <td>750.250000</td>\n",
              "      <td>330.000000</td>\n",
              "    </tr>\n",
              "    <tr>\n",
              "      <th>max</th>\n",
              "      <td>9.380000</td>\n",
              "      <td>12043.000000</td>\n",
              "      <td>1000.000000</td>\n",
              "      <td>998.000000</td>\n",
              "    </tr>\n",
              "  </tbody>\n",
              "</table>\n",
              "</div>\n",
              "    <div class=\"colab-df-buttons\">\n",
              "\n",
              "  <div class=\"colab-df-container\">\n",
              "    <button class=\"colab-df-convert\" onclick=\"convertToInteractive('df-1267a287-0979-4d32-9273-cfa247a254e0')\"\n",
              "            title=\"Convert this dataframe to an interactive table.\"\n",
              "            style=\"display:none;\">\n",
              "\n",
              "  <svg xmlns=\"http://www.w3.org/2000/svg\" height=\"24px\" viewBox=\"0 -960 960 960\">\n",
              "    <path d=\"M120-120v-720h720v720H120Zm60-500h600v-160H180v160Zm220 220h160v-160H400v160Zm0 220h160v-160H400v160ZM180-400h160v-160H180v160Zm440 0h160v-160H620v160ZM180-180h160v-160H180v160Zm440 0h160v-160H620v160Z\"/>\n",
              "  </svg>\n",
              "    </button>\n",
              "\n",
              "  <style>\n",
              "    .colab-df-container {\n",
              "      display:flex;\n",
              "      gap: 12px;\n",
              "    }\n",
              "\n",
              "    .colab-df-convert {\n",
              "      background-color: #E8F0FE;\n",
              "      border: none;\n",
              "      border-radius: 50%;\n",
              "      cursor: pointer;\n",
              "      display: none;\n",
              "      fill: #1967D2;\n",
              "      height: 32px;\n",
              "      padding: 0 0 0 0;\n",
              "      width: 32px;\n",
              "    }\n",
              "\n",
              "    .colab-df-convert:hover {\n",
              "      background-color: #E2EBFA;\n",
              "      box-shadow: 0px 1px 2px rgba(60, 64, 67, 0.3), 0px 1px 3px 1px rgba(60, 64, 67, 0.15);\n",
              "      fill: #174EA6;\n",
              "    }\n",
              "\n",
              "    .colab-df-buttons div {\n",
              "      margin-bottom: 4px;\n",
              "    }\n",
              "\n",
              "    [theme=dark] .colab-df-convert {\n",
              "      background-color: #3B4455;\n",
              "      fill: #D2E3FC;\n",
              "    }\n",
              "\n",
              "    [theme=dark] .colab-df-convert:hover {\n",
              "      background-color: #434B5C;\n",
              "      box-shadow: 0px 1px 3px 1px rgba(0, 0, 0, 0.15);\n",
              "      filter: drop-shadow(0px 1px 2px rgba(0, 0, 0, 0.3));\n",
              "      fill: #FFFFFF;\n",
              "    }\n",
              "  </style>\n",
              "\n",
              "    <script>\n",
              "      const buttonEl =\n",
              "        document.querySelector('#df-1267a287-0979-4d32-9273-cfa247a254e0 button.colab-df-convert');\n",
              "      buttonEl.style.display =\n",
              "        google.colab.kernel.accessAllowed ? 'block' : 'none';\n",
              "\n",
              "      async function convertToInteractive(key) {\n",
              "        const element = document.querySelector('#df-1267a287-0979-4d32-9273-cfa247a254e0');\n",
              "        const dataTable =\n",
              "          await google.colab.kernel.invokeFunction('convertToInteractive',\n",
              "                                                    [key], {});\n",
              "        if (!dataTable) return;\n",
              "\n",
              "        const docLinkHtml = 'Like what you see? Visit the ' +\n",
              "          '<a target=\"_blank\" href=https://colab.research.google.com/notebooks/data_table.ipynb>data table notebook</a>'\n",
              "          + ' to learn more about interactive tables.';\n",
              "        element.innerHTML = '';\n",
              "        dataTable['output_type'] = 'display_data';\n",
              "        await google.colab.output.renderOutput(dataTable, element);\n",
              "        const docLink = document.createElement('div');\n",
              "        docLink.innerHTML = docLinkHtml;\n",
              "        element.appendChild(docLink);\n",
              "      }\n",
              "    </script>\n",
              "  </div>\n",
              "\n",
              "\n",
              "    <div id=\"df-2f757511-3a83-4675-a631-b592e141f73b\">\n",
              "      <button class=\"colab-df-quickchart\" onclick=\"quickchart('df-2f757511-3a83-4675-a631-b592e141f73b')\"\n",
              "                title=\"Suggest charts\"\n",
              "                style=\"display:none;\">\n",
              "\n",
              "<svg xmlns=\"http://www.w3.org/2000/svg\" height=\"24px\"viewBox=\"0 0 24 24\"\n",
              "     width=\"24px\">\n",
              "    <g>\n",
              "        <path d=\"M19 3H5c-1.1 0-2 .9-2 2v14c0 1.1.9 2 2 2h14c1.1 0 2-.9 2-2V5c0-1.1-.9-2-2-2zM9 17H7v-7h2v7zm4 0h-2V7h2v10zm4 0h-2v-4h2v4z\"/>\n",
              "    </g>\n",
              "</svg>\n",
              "      </button>\n",
              "\n",
              "<style>\n",
              "  .colab-df-quickchart {\n",
              "      --bg-color: #E8F0FE;\n",
              "      --fill-color: #1967D2;\n",
              "      --hover-bg-color: #E2EBFA;\n",
              "      --hover-fill-color: #174EA6;\n",
              "      --disabled-fill-color: #AAA;\n",
              "      --disabled-bg-color: #DDD;\n",
              "  }\n",
              "\n",
              "  [theme=dark] .colab-df-quickchart {\n",
              "      --bg-color: #3B4455;\n",
              "      --fill-color: #D2E3FC;\n",
              "      --hover-bg-color: #434B5C;\n",
              "      --hover-fill-color: #FFFFFF;\n",
              "      --disabled-bg-color: #3B4455;\n",
              "      --disabled-fill-color: #666;\n",
              "  }\n",
              "\n",
              "  .colab-df-quickchart {\n",
              "    background-color: var(--bg-color);\n",
              "    border: none;\n",
              "    border-radius: 50%;\n",
              "    cursor: pointer;\n",
              "    display: none;\n",
              "    fill: var(--fill-color);\n",
              "    height: 32px;\n",
              "    padding: 0;\n",
              "    width: 32px;\n",
              "  }\n",
              "\n",
              "  .colab-df-quickchart:hover {\n",
              "    background-color: var(--hover-bg-color);\n",
              "    box-shadow: 0 1px 2px rgba(60, 64, 67, 0.3), 0 1px 3px 1px rgba(60, 64, 67, 0.15);\n",
              "    fill: var(--button-hover-fill-color);\n",
              "  }\n",
              "\n",
              "  .colab-df-quickchart-complete:disabled,\n",
              "  .colab-df-quickchart-complete:disabled:hover {\n",
              "    background-color: var(--disabled-bg-color);\n",
              "    fill: var(--disabled-fill-color);\n",
              "    box-shadow: none;\n",
              "  }\n",
              "\n",
              "  .colab-df-spinner {\n",
              "    border: 2px solid var(--fill-color);\n",
              "    border-color: transparent;\n",
              "    border-bottom-color: var(--fill-color);\n",
              "    animation:\n",
              "      spin 1s steps(1) infinite;\n",
              "  }\n",
              "\n",
              "  @keyframes spin {\n",
              "    0% {\n",
              "      border-color: transparent;\n",
              "      border-bottom-color: var(--fill-color);\n",
              "      border-left-color: var(--fill-color);\n",
              "    }\n",
              "    20% {\n",
              "      border-color: transparent;\n",
              "      border-left-color: var(--fill-color);\n",
              "      border-top-color: var(--fill-color);\n",
              "    }\n",
              "    30% {\n",
              "      border-color: transparent;\n",
              "      border-left-color: var(--fill-color);\n",
              "      border-top-color: var(--fill-color);\n",
              "      border-right-color: var(--fill-color);\n",
              "    }\n",
              "    40% {\n",
              "      border-color: transparent;\n",
              "      border-right-color: var(--fill-color);\n",
              "      border-top-color: var(--fill-color);\n",
              "    }\n",
              "    60% {\n",
              "      border-color: transparent;\n",
              "      border-right-color: var(--fill-color);\n",
              "    }\n",
              "    80% {\n",
              "      border-color: transparent;\n",
              "      border-right-color: var(--fill-color);\n",
              "      border-bottom-color: var(--fill-color);\n",
              "    }\n",
              "    90% {\n",
              "      border-color: transparent;\n",
              "      border-bottom-color: var(--fill-color);\n",
              "    }\n",
              "  }\n",
              "</style>\n",
              "\n",
              "      <script>\n",
              "        async function quickchart(key) {\n",
              "          const quickchartButtonEl =\n",
              "            document.querySelector('#' + key + ' button');\n",
              "          quickchartButtonEl.disabled = true;  // To prevent multiple clicks.\n",
              "          quickchartButtonEl.classList.add('colab-df-spinner');\n",
              "          try {\n",
              "            const charts = await google.colab.kernel.invokeFunction(\n",
              "                'suggestCharts', [key], {});\n",
              "          } catch (error) {\n",
              "            console.error('Error during call to suggestCharts:', error);\n",
              "          }\n",
              "          quickchartButtonEl.classList.remove('colab-df-spinner');\n",
              "          quickchartButtonEl.classList.add('colab-df-quickchart-complete');\n",
              "        }\n",
              "        (() => {\n",
              "          let quickchartButtonEl =\n",
              "            document.querySelector('#df-2f757511-3a83-4675-a631-b592e141f73b button');\n",
              "          quickchartButtonEl.style.display =\n",
              "            google.colab.kernel.accessAllowed ? 'block' : 'none';\n",
              "        })();\n",
              "      </script>\n",
              "    </div>\n",
              "\n",
              "    </div>\n",
              "  </div>\n"
            ],
            "application/vnd.google.colaboratory.intrinsic+json": {
              "type": "dataframe",
              "summary": "{\n  \"name\": \"anime_df\",\n  \"rows\": 8,\n  \"fields\": [\n    {\n      \"column\": \"Score\",\n      \"properties\": {\n        \"dtype\": \"number\",\n        \"std\": 351.04183613378393,\n        \"min\": 0.2843440788114914,\n        \"max\": 1000.0,\n        \"num_unique_values\": 8,\n        \"samples\": [\n          8.15658,\n          8.1,\n          1000.0\n        ],\n        \"semantic_type\": \"\",\n        \"description\": \"\"\n      }\n    },\n    {\n      \"column\": \"Popularity\",\n      \"properties\": {\n        \"dtype\": \"number\",\n        \"std\": 3901.181217509663,\n        \"min\": 1.0,\n        \"max\": 12043.0,\n        \"num_unique_values\": 8,\n        \"samples\": [\n          1805.637,\n          1139.5,\n          1000.0\n        ],\n        \"semantic_type\": \"\",\n        \"description\": \"\"\n      }\n    },\n    {\n      \"column\": \"Rank\",\n      \"properties\": {\n        \"dtype\": \"number\",\n        \"std\": 360.1000917722167,\n        \"min\": 1.0,\n        \"max\": 1000.0,\n        \"num_unique_values\": 6,\n        \"samples\": [\n          1000.0,\n          500.5,\n          750.25\n        ],\n        \"semantic_type\": \"\",\n        \"description\": \"\"\n      }\n    },\n    {\n      \"column\": \"Members\",\n      \"properties\": {\n        \"dtype\": \"number\",\n        \"std\": 402.9932033182466,\n        \"min\": 1.0,\n        \"max\": 1000.0,\n        \"num_unique_values\": 8,\n        \"samples\": [\n          223.648,\n          132.0,\n          1000.0\n        ],\n        \"semantic_type\": \"\",\n        \"description\": \"\"\n      }\n    }\n  ]\n}"
            }
          },
          "metadata": {},
          "execution_count": 15
        }
      ],
      "source": [
        "# Statistik deskriptif\n",
        "anime_df.describe()"
      ]
    },
    {
      "cell_type": "markdown",
      "source": [
        "\n",
        "Statistik deskriptif digunakan untuk melihat ringkasan nilai numerik dari beberapa kolom penting dalam dataset, seperti `Score`, `Popularity`, `Rank`, dan `Members`. Berikut interpretasinya:\n",
        "\n",
        "* **Score (Skor rata-rata anime)**\n",
        "  Memiliki nilai antara **7.80 hingga 9.38**, dengan **rata-rata 8.16**, menunjukkan bahwa sebagian besar anime dalam dataset memiliki skor yang cukup tinggi.\n",
        "\n",
        "* **Popularity (Peringkat popularitas)**\n",
        "  Semakin kecil nilainya, semakin populer animenya. Nilai berkisar antara **1 hingga 12.043**, dengan median di sekitar **1139.5**, menandakan sebaran popularitas yang cukup lebar.\n",
        "\n",
        "* **Rank (Peringkat berdasarkan skor atau metrik gabungan)**\n",
        "  Sama seperti popularitas, semakin kecil nilainya maka peringkatnya lebih tinggi. Nilainya berkisar dari **1 hingga 1000**, sesuai jumlah data.\n",
        "\n",
        "* **Members (Jumlah pengguna yang menambahkan anime ke daftar mereka)**\n",
        "  Jumlah anggota berkisar dari **1 hingga 998**, dengan **rata-rata sekitar 223 pengguna** per anime. Ini menunjukkan adanya variasi besar dalam tingkat eksposur atau ketenaran masing-masing anime.\n",
        "\n",
        "Statistik ini membantu dalam memahami sebaran dan kualitas data, serta mendukung pengambilan keputusan dalam tahapan eksplorasi dan pemilihan fitur.\n"
      ],
      "metadata": {
        "id": "HajhbPMIJETp"
      }
    },
    {
      "cell_type": "markdown",
      "metadata": {
        "id": "WfVcSYlYBJwe"
      },
      "source": [
        "## 3. Visualisasi data\n",
        "\n",
        "Membuat visualisasi untuk memahami distribusi data."
      ]
    },
    {
      "cell_type": "code",
      "execution_count": 16,
      "metadata": {
        "colab": {
          "base_uri": "https://localhost:8080/",
          "height": 564
        },
        "id": "whyLQGnOBJwe",
        "outputId": "d208d3a2-63b5-400c-f11a-b7c946e34e51"
      },
      "outputs": [
        {
          "output_type": "display_data",
          "data": {
            "text/plain": [
              "<Figure size 1000x600 with 1 Axes>"
            ],
            "image/png": "[encoded data removed]"
          },
          "metadata": {}
        }
      ],
      "source": [
        "# Distribusi Rating\n",
        "plt.figure(figsize=(10,6))\n",
        "sns.histplot(anime_df['Score'], bins=20, kde=True)\n",
        "plt.title('Distribusi Rating Anime')\n",
        "plt.xlabel('Rating')\n",
        "plt.ylabel('Count')\n",
        "plt.show()"
      ]
    },
    {
      "cell_type": "markdown",
      "source": [
        "## Interpretasi Hasil:\n",
        "\n",
        "1. **Distribusi Rating**:\n",
        "   - Rating anime dalam dataset ini terkonsentrasi antara 8.0 hingga 9.0\n",
        "   - Puncak distribusi berada di sekitar rating 8.4-8.6\n",
        "\n",
        "2. **Karakteristik Distribusi**:\n",
        "   - Distribusi cenderung normal dengan sedikit skewness ke kiri (tail lebih panjang di sisi rating rendah)\n",
        "   - Kurva KDE (Kernel Density Estimation) menunjukkan estimasi distribusi yang halus\n",
        "\n",
        "3. **Insight**:\n",
        "   - Mayoritas anime memiliki rating di atas 8.0\n",
        "   - Sangat sedikit anime yang memiliki rating di bawah 7.8 atau di atas 9.2\n",
        "   - Distribusi ini menunjukkan bahwa kebanyakan anime dalam dataset ini mendapatkan penilaian yang cukup baik dari penonton\n",
        "\n",
        "Visualisasi ini membantu kita memahami bagaimana rating anime terdistribusi dalam dataset kita sebelum melakukan analisis lebih lanjut."
      ],
      "metadata": {
        "id": "ryQTf2YKJ7TJ"
      }
    },
    {
      "cell_type": "code",
      "execution_count": 17,
      "metadata": {
        "colab": {
          "base_uri": "https://localhost:8080/",
          "height": 807
        },
        "id": "kHJXwcjDBJwe",
        "outputId": "07bc341e-aba7-4cf1-8e18-f11d7eb26e83"
      },
      "outputs": [
        {
          "output_type": "display_data",
          "data": {
            "text/plain": [
              "<Figure size 1200x800 with 1 Axes>"
            ],
            "image/png": "[encoded data removed]"
          },
          "metadata": {}
        }
      ],
      "source": [
        "# Top 10 Anime Berdasarkan Rating\n",
        "top_anime = anime_df.sort_values('Score', ascending=False).head(10)\n",
        "plt.figure(figsize=(12,8))\n",
        "sns.barplot(x='Score', y='English', data=top_anime, palette='viridis')\n",
        "plt.title('Top 10 Anime Berdasarkan Rating')\n",
        "plt.xlabel('Rating')\n",
        "plt.ylabel('Judul Anime')\n",
        "plt.tight_layout()\n",
        "plt.show()"
      ]
    },
    {
      "cell_type": "markdown",
      "source": [
        "\n",
        "## Hasil dan Observasi:\n",
        "\n",
        "1. **Anime Terbaik**:\n",
        "   - **Frieren: Beyond Journey's End** menduduki peringkat pertama\n",
        "   - Diikuti oleh **Fullmetal Alchemist: Brotherhood** dan **Steins;Gate**\n",
        "\n",
        "2. **Dominasi Serial**:\n",
        "   - Serial **Gintama** muncul 4 kali dalam top 10 dengan berbagai season dan filmnya\n",
        "   - **Attack on Titan** dan **Bleach** juga masuk dengan season terbaik mereka\n",
        "\n",
        "3. **Range Rating**:\n",
        "   - Rating top 10 berada dalam range yang sangat tinggi (8.5-9.5)\n",
        "   - Perbedaan antar peringkat sangat tipis\n",
        "\n",
        "4. **Insight**:\n",
        "   - Anime dengan cerita kompleks dan pengembangan karakter mendalam cenderung mendominasi\n",
        "   - Forte shounen dan seinen dengan alur cerita matang\n",
        "   - Forte adaptasi manga/novel yang setia dengan penambahan nilai produksi tinggi\n",
        "\n",
        "Visualisasi ini membantu mengidentifikasi anime-anime berkualitas tinggi yang bisa menjadi rekomendasi bagi penggemar, sekaligus menunjukkan standar kualitas dari anime top-tier."
      ],
      "metadata": {
        "id": "I4V62DItKrGN"
      }
    },
    {
      "cell_type": "markdown",
      "metadata": {
        "id": "iFoaBM_XBJwe"
      },
      "source": [
        "## 4. Data Preparation\n",
        "\n",
        "Melakukan persiapan data sebelum pemodelan."
      ]
    },
    {
      "cell_type": "code",
      "execution_count": 18,
      "metadata": {
        "colab": {
          "base_uri": "https://localhost:8080/"
        },
        "id": "NlYp3C3lBJwe",
        "outputId": "a09ac39f-d1db-429b-9a9a-56f43b882083"
      },
      "outputs": [
        {
          "output_type": "stream",
          "name": "stdout",
          "text": [
            "Jumlah data duplikat: 0\n",
            "Tidak ada data duplikat ditemukan.\n"
          ]
        }
      ],
      "source": [
        "# 1. Pengecekan Data Duplikat\n",
        "duplicates = anime_df.duplicated().sum()\n",
        "print(f\"Jumlah data duplikat: {duplicates}\")\n",
        "\n",
        "if duplicates > 0:\n",
        "    print(\"Menghapus data duplikat...\")\n",
        "    anime_df = anime_df.drop_duplicates()\n",
        "    print(f\"Shape setelah menghapus duplikat: {anime_df.shape}\")\n",
        "else:\n",
        "    print(\"Tidak ada data duplikat ditemukan.\")"
      ]
    },
    {
      "cell_type": "markdown",
      "source": [
        "\n",
        "#### Pengecekan Data Duplikat\n",
        "\n",
        "Dilakukan pengecekan apakah terdapat baris data yang **terduplikasi secara keseluruhan**. Hasilnya:\n",
        "\n",
        "* **Tidak ditemukan data duplikat** dalam dataset.\n",
        "* Oleh karena itu, tidak perlu dilakukan penghapusan data pada tahap ini.\n",
        "\n",
        "Pengecekan ini penting untuk memastikan bahwa model tidak belajar dari data yang redundan, yang bisa menyebabkan bias atau hasil rekomendasi yang tidak akurat.\n"
      ],
      "metadata": {
        "id": "EYkFXdJTLwTl"
      }
    },
    {
      "cell_type": "markdown",
      "metadata": {
        "id": "C-acfoadBJwf"
      },
      "source": [
        "### Handling Missing Values\n",
        "\n",
        "Mengisi nilai yang kosong pada dataset."
      ]
    },
    {
      "cell_type": "code",
      "execution_count": 19,
      "metadata": {
        "colab": {
          "base_uri": "https://localhost:8080/"
        },
        "id": "tNpUraCHBJwf",
        "outputId": "eed29c0e-2e2b-4e1f-8106-cd890771b5a2"
      },
      "outputs": [
        {
          "output_type": "stream",
          "name": "stdout",
          "text": [
            "\n",
            "Handling missing values:\n",
            "- Description: Diisi dengan 'No description available'\n",
            "- Genres: Diisi dengan 'Unknown'\n",
            "- Type: Diisi dengan 'Unknown'\n",
            "- Demographic: Diisi dengan 'Unknown'\n",
            "- Source: Diisi dengan 'Unknown'\n",
            "- Synonyms: Diisi dengan 'No synonyms'\n",
            "- Broadcast: Diisi dengan 'Unknown'\n"
          ]
        }
      ],
      "source": [
        "# 2. Handling missing values - SEMUA yang dilakukan\n",
        "print(\"\\nHandling missing values:\")\n",
        "print(\"- Description: Diisi dengan 'No description available'\")\n",
        "print(\"- Genres: Diisi dengan 'Unknown'\")\n",
        "print(\"- Type: Diisi dengan 'Unknown'\")\n",
        "print(\"- Demographic: Diisi dengan 'Unknown'\")\n",
        "print(\"- Source: Diisi dengan 'Unknown'\")\n",
        "print(\"- Synonyms: Diisi dengan 'No synonyms'\")\n",
        "print(\"- Broadcast: Diisi dengan 'Unknown'\")\n",
        "\n",
        "anime_df['Description'] = anime_df['Description'].fillna('No description available')\n",
        "anime_df['Genres'] = anime_df['Genres'].fillna('Unknown')\n",
        "anime_df['Type'] = anime_df['Type'].fillna('Unknown')\n",
        "anime_df['Demographic'] = anime_df['Demographic'].fillna('Unknown')\n",
        "anime_df['Source'] = anime_df['Source'].fillna('Unknown')\n",
        "anime_df['Synonyms'] = anime_df['Synonyms'].fillna('No synonyms')\n",
        "anime_df['Broadcast'] = anime_df['Broadcast'].fillna('Unknown')"
      ]
    },
    {
      "cell_type": "markdown",
      "source": [
        "### Penanganan Missing Values\n",
        "\n",
        "Setelah dilakukan analisis sebelumnya, beberapa kolom penting diketahui memiliki nilai yang hilang. Untuk memastikan kualitas dan kelengkapan data, dilakukan pengisian (*imputasi*) nilai kosong dengan nilai default yang informatif.\n",
        "\n",
        "Berikut langkah-langkah yang dilakukan:\n",
        "\n",
        "* **Description** → Diisi dengan `'No description available'`, agar tetap bisa digunakan dalam ekstraksi fitur teks.\n",
        "* **Genres** → Diisi dengan `'Unknown'`, karena genre merupakan fitur penting dalam sistem rekomendasi.\n",
        "* **Type** → Diisi dengan `'Unknown'`, untuk menghindari nilai kosong dalam analisis tipe anime.\n",
        "* **Demographic** → Diisi dengan `'Unknown'`, untuk mempertahankan informasi meskipun sebagian besar nilainya kosong.\n",
        "* **Source** → Diisi dengan `'Unknown'`, yang menunjukkan sumber cerita (misalnya manga, novel, dll).\n",
        "* **Synonyms** → Diisi dengan `'No synonyms'`, untuk menjaga konsistensi data judul.\n",
        "* **Broadcast** → Diisi dengan `'Unknown'`, karena waktu tayang tidak selalu tersedia.\n",
        "\n",
        "Pengisian ini bertujuan agar model tidak gagal dalam memproses data dan tetap bisa memanfaatkan seluruh baris data yang tersedia.\n"
      ],
      "metadata": {
        "id": "HIT7DHGuMHkW"
      }
    },
    {
      "cell_type": "markdown",
      "metadata": {
        "id": "30PbVG6mBJwf"
      },
      "source": [
        "### Feature Engineering\n",
        "\n",
        "Membuat fitur baru dengan menggabungkan beberapa fitur yang ada."
      ]
    },
    {
      "cell_type": "code",
      "execution_count": 35,
      "metadata": {
        "colab": {
          "base_uri": "https://localhost:8080/"
        },
        "id": "TZ9YcnIXBJwf",
        "outputId": "b830e213-31ee-48da-da39-e0490e5fa9d2"
      },
      "outputs": [
        {
          "output_type": "stream",
          "name": "stdout",
          "text": [
            "Membuat kolom content_features dengan menggabungkan:\n",
            "- Genres (dikonversi ke lowercase)\n",
            "- Type (dikonversi ke lowercase)\n",
            "- Description (dikonversi ke lowercase)\n",
            "\n",
            "Contoh hasil feature engineering:\n",
            "                            English  \\\n",
            "0     Frieren: Beyond Journey's End   \n",
            "1  Fullmetal Alchemist: Brotherhood   \n",
            "\n",
            "                                    content_features  \n",
            "0  adventureadventure, dramadrama, fantasyfantasy...  \n",
            "1  actionaction, adventureadventure, dramadrama, ...  \n"
          ]
        }
      ],
      "source": [
        "# 3. Feature Engineering\n",
        "print(\"Membuat kolom content_features dengan menggabungkan:\")\n",
        "print(\"- Genres (dikonversi ke lowercase)\")\n",
        "print(\"- Type (dikonversi ke lowercase)\")\n",
        "print(\"- Description (dikonversi ke lowercase)\")\n",
        "\n",
        "anime_df['content_features'] = (\n",
        "    anime_df['Genres'].str.lower() + ' ' +\n",
        "    anime_df['Type'].str.lower() + ' ' +\n",
        "    anime_df['Description'].str.lower()\n",
        ")\n",
        "\n",
        "# Tampilkan contoh hasil feature engineering\n",
        "print(\"\\nContoh hasil feature engineering:\")\n",
        "print(anime_df[['English', 'content_features']].head(2))"
      ]
    },
    {
      "cell_type": "markdown",
      "source": [
        "### Feature Engineering\n",
        "\n",
        "Pada tahap ini, dilakukan pembuatan fitur baru bernama `content_features` yang merupakan hasil penggabungan dari beberapa kolom penting, yaitu:\n",
        "\n",
        "* **Genres**\n",
        "* **Type**\n",
        "* **Description**\n",
        "\n",
        "Semua nilai pada kolom tersebut terlebih dahulu dikonversi ke **huruf kecil (lowercase)** untuk menjaga konsistensi dalam pemrosesan teks.\n",
        "\n",
        "Fitur `content_features` ini akan menjadi representasi teks gabungan dari konten anime, yang nantinya digunakan sebagai dasar dalam proses ekstraksi fitur teks (TF-IDF) dan perhitungan kemiripan antar anime. Contoh isi dari `content_features` adalah gabungan genre, tipe, dan deskripsi anime dalam satu kalimat panjang berformat teks bebas.\n",
        "\n",
        "Langkah ini penting dalam sistem rekomendasi berbasis konten (Content-Based Filtering), karena memungkinkan model memahami deskripsi dan karakteristik dari setiap anime secara komprehensif.\n"
      ],
      "metadata": {
        "id": "xjZ7aZLtNG8d"
      }
    },
    {
      "cell_type": "markdown",
      "metadata": {
        "id": "zuB-Dbc_BJwf"
      },
      "source": [
        "### TF-IDF Vectorization\n",
        "\n",
        "Mengkonversi fitur teks menjadi representasi numerik menggunakan TF-IDF."
      ]
    },
    {
      "cell_type": "code",
      "execution_count": 39,
      "metadata": {
        "colab": {
          "base_uri": "https://localhost:8080/"
        },
        "id": "AXRYAb8MBJwf",
        "outputId": "488bd6ba-e512-4e5d-ae62-8767e05a8da2"
      },
      "outputs": [
        {
          "output_type": "stream",
          "name": "stdout",
          "text": [
            "Shape TF-IDF Matrix: (1000, 5000)\n"
          ]
        }
      ],
      "source": [
        "# Memastikan tidak ada NaN di content_features\n",
        "anime_df['content_features'] = anime_df['content_features'].fillna('').astype(str)\n",
        "\n",
        "# TF-IDF Vectorization\n",
        "tfidf = TfidfVectorizer(\n",
        "    stop_words='english',  # Menghapus kata-kata umum dalam bahasa Inggris\n",
        "    ngram_range=(1, 2),    # Menggunakan unigram dan bigram\n",
        "    max_features=5000      # Maksimum 5000 fitur\n",
        ")\n",
        "\n",
        "# Ubah teks menjadi matriks TF-IDF\n",
        "tfidf_matrix = tfidf.fit_transform(anime_df['content_features'])\n",
        "\n",
        "# Ukuran matriks TF-IDF\n",
        "print(f\"Shape TF-IDF Matrix: {tfidf_matrix.shape}\")\n"
      ]
    },
    {
      "cell_type": "markdown",
      "source": [
        "\n",
        "## Interpretasi Hasil:\n",
        "- **1000 baris**: Jumlah dokumen/anime dalam dataset\n",
        "- **5000 kolom**: Jumlah fitur unik (kata/kombinasi kata) yang dihasilkan\n",
        "- Matriks bersifat sparse (banyak nilai 0) karena setiap dokumen hanya mengandung sebagian kecil dari seluruh kosakata"
      ],
      "metadata": {
        "id": "GS7YhxO3WPnD"
      }
    },
    {
      "cell_type": "markdown",
      "metadata": {
        "id": "t-a4fzuMBJwg"
      },
      "source": [
        "## 5. Modeling\n",
        "\n",
        "Membangun model rekomendasi berbasis konten menggunakan cosine similarity."
      ]
    },
    {
      "cell_type": "code",
      "execution_count": 22,
      "metadata": {
        "colab": {
          "base_uri": "https://localhost:8080/"
        },
        "id": "Rb-LKTojBJwg",
        "outputId": "2d38259a-8c6e-480b-e4db-188ba90ad1d4"
      },
      "outputs": [
        {
          "output_type": "stream",
          "name": "stdout",
          "text": [
            "\n",
            "=== MODELING ===\n",
            "Menggunakan Content-Based Filtering dengan:\n",
            "1. Representasi konten: Vektor TF-IDF dari fitur gabungan\n",
            "2. Similarity computation: Cosine Similarity\n",
            "3. Rekomendasi: Top-N anime dengan similarity tertinggi\n",
            "Shape Similarity Matrix: (1000, 1000)\n"
          ]
        }
      ],
      "source": [
        "print(\"\\n=== MODELING ===\")\n",
        "print(\"Menggunakan Content-Based Filtering dengan:\")\n",
        "print(\"1. Representasi konten: Vektor TF-IDF dari fitur gabungan\")\n",
        "print(\"2. Similarity computation: Cosine Similarity\")\n",
        "print(\"3. Rekomendasi: Top-N anime dengan similarity tertinggi\")\n",
        "\n",
        "# Cosine Similarity\n",
        "cosine_sim = cosine_similarity(tfidf_matrix, tfidf_matrix)\n",
        "print(f\"Shape Similarity Matrix: {cosine_sim.shape}\")"
      ]
    },
    {
      "cell_type": "markdown",
      "source": [
        "\n",
        "Pada tahap ini, kita membangun model sistem rekomendasi berbasis konten (*Content-Based Filtering*), dengan pendekatan sebagai berikut:\n",
        "\n",
        "1. **Representasi konten**: Menggunakan vektor TF-IDF dari fitur gabungan (genre, tipe, deskripsi, dsb).\n",
        "2. **Perhitungan kesamaan**: Menggunakan **Cosine Similarity** untuk mengukur sejauh mana kemiripan antar anime.\n",
        "3. **Hasil rekomendasi**: Anime yang memiliki nilai kemiripan tertinggi dengan anime yang diberikan akan direkomendasikan.\n",
        "\n",
        "Hasilnya adalah matriks similarity berukuran `(1000, 1000)` yang menunjukkan skor kemiripan antara setiap pasang anime.\n"
      ],
      "metadata": {
        "id": "NjHimCXMX1AR"
      }
    },
    {
      "cell_type": "markdown",
      "source": [
        "### tahap Modeling\n",
        "\n",
        "Pada tahap ini, kita membangun model sistem rekomendasi berbasis konten (*Content-Based Filtering*), dengan pendekatan sebagai berikut:\n",
        "\n",
        "1. **Representasi konten**: Menggunakan vektor TF-IDF dari fitur gabungan (genre, tipe, deskripsi, dsb).\n",
        "2. **Perhitungan kesamaan**: Menggunakan **Cosine Similarity** untuk mengukur sejauh mana kemiripan antar anime.\n",
        "3. **Hasil rekomendasi**: Anime yang memiliki nilai kemiripan tertinggi dengan anime yang diberikan akan direkomendasikan.\n",
        "\n",
        "Hasilnya adalah matriks similarity berukuran `(1000, 1000)` yang menunjukkan skor kemiripan antara setiap pasang anime."
      ],
      "metadata": {
        "id": "5XKCQYBaXjm5"
      }
    },
    {
      "cell_type": "code",
      "execution_count": 40,
      "metadata": {
        "id": "qznqlOpmBJwg"
      },
      "outputs": [],
      "source": [
        "# Fungsi rekomendasi\n",
        "def get_recommendations(title, cosine_sim=cosine_sim, df=anime_df, top_n=10):\n",
        "    try:\n",
        "        idx = df[df['English'] == title].index\n",
        "        if len(idx) == 0:\n",
        "            return None\n",
        "\n",
        "        idx = idx[0]\n",
        "        sim_scores = list(enumerate(cosine_sim[idx]))\n",
        "        sim_scores = sorted(sim_scores, key=lambda x: x[1], reverse=True)[1:top_n+1]\n",
        "\n",
        "        anime_indices = [i[0] for i in sim_scores]\n",
        "        similarity_values = [i[1] for i in sim_scores]\n",
        "\n",
        "        recommendations = df[['English', 'Genres', 'Score', 'Type']].iloc[anime_indices].copy()\n",
        "        recommendations['Similarity'] = similarity_values\n",
        "\n",
        "        return recommendations\n",
        "    except Exception as e:\n",
        "        print(f\"Error: {e}\")\n",
        "        return None"
      ]
    },
    {
      "cell_type": "markdown",
      "source": [
        "### Fungsi Rekomendasi\n",
        "\n",
        "Fungsi `get_recommendations()` digunakan untuk menghasilkan rekomendasi anime berdasarkan **judul yang diberikan**. Prosesnya melibatkan:\n",
        "\n",
        "* Mencari indeks dari anime yang sesuai dengan judul (`English`).\n",
        "* Mengambil nilai **cosine similarity** antara anime tersebut dan seluruh anime lainnya.\n",
        "* Mengurutkan skor similarity dari yang tertinggi (selain dirinya sendiri).\n",
        "* Mengambil **Top-N** anime yang paling mirip.\n",
        "* Mengembalikan informasi anime yang direkomendasikan beserta nilai similarity-nya.\n",
        "\n",
        "Fungsi ini akan mengembalikan `None` jika judul tidak ditemukan di dataset atau jika terjadi error saat pemrosesan.\n"
      ],
      "metadata": {
        "id": "a3YiJo0AYjUh"
      }
    },
    {
      "cell_type": "markdown",
      "metadata": {
        "id": "t_jTq4yYBJwg"
      },
      "source": [
        "## 6. Hasil Rekomendasi\n",
        "\n",
        "Menguji sistem rekomendasi dengan beberapa contoh anime."
      ]
    },
    {
      "cell_type": "code",
      "execution_count": 41,
      "metadata": {
        "colab": {
          "base_uri": "https://localhost:8080/",
          "height": 623
        },
        "id": "UBP--I3qBJwg",
        "outputId": "61f5885b-bfd8-4c5e-e0c1-fb6cab352473"
      },
      "outputs": [
        {
          "output_type": "stream",
          "name": "stdout",
          "text": [
            "\n",
            "=== HASIL REKOMENDASI ===\n",
            "Input: 'Attack on Titan Season 3 Part 2'\n",
            "\n",
            "Output Rekomendasi:\n",
            "1. Attack on Titan: The Roar of Awakening (Similarity: 0.4797)\n",
            "2. Attack on Titan: Final Season (Similarity: 0.4659)\n",
            "3. Attack on Titan Season 2 (Similarity: 0.4496)\n",
            "4. Attack on Titan: Final Season Part 2 (Similarity: 0.3379)\n",
            "5. Attack on Titan (Similarity: 0.3122)\n",
            "6. Attack on Titan Season 3 (Similarity: 0.2770)\n",
            "7. Attack on Titan: Final Season - The Final Chapters (Similarity: 0.2404)\n",
            "8. Attack on Titan: No Regrets (Similarity: 0.2255)\n",
            "9. Classroom of the Elite III (Similarity: 0.1774)\n",
            "10. Attack on Titan: Lost Girls (Similarity: 0.1742)\n"
          ]
        },
        {
          "output_type": "display_data",
          "data": {
            "text/plain": [
              "                                               English  \\\n",
              "841             Attack on Titan: The Roar of Awakening   \n",
              "34                       Attack on Titan: Final Season   \n",
              "125                           Attack on Titan Season 2   \n",
              "41                Attack on Titan: Final Season Part 2   \n",
              "107                                    Attack on Titan   \n",
              "82                            Attack on Titan Season 3   \n",
              "21   Attack on Titan: Final Season - The Final Chap...   \n",
              "173                        Attack on Titan: No Regrets   \n",
              "631                         Classroom of the Elite III   \n",
              "960                        Attack on Titan: Lost Girls   \n",
              "\n",
              "                                                Genres  Score        Type  \\\n",
              "841         ActionAction, DramaDrama, SuspenseSuspense   7.88       Movie   \n",
              "34          ActionAction, DramaDrama, SuspenseSuspense   8.79          TV   \n",
              "125         ActionAction, DramaDrama, SuspenseSuspense   8.51          TV   \n",
              "41          ActionAction, DramaDrama, SuspenseSuspense   8.76          TV   \n",
              "107  ActionAction, Award WinningAward Winning, Dram...   8.55          TV   \n",
              "82          ActionAction, DramaDrama, SuspenseSuspense   8.62          TV   \n",
              "21          ActionAction, DramaDrama, SuspenseSuspense   8.90  TV Special   \n",
              "173                                                NaN   8.42         OVA   \n",
              "631                       DramaDrama, SuspenseSuspense   8.00          TV   \n",
              "960                           ActionAction, DramaDrama   7.82         OVA   \n",
              "\n",
              "     Similarity  \n",
              "841    0.479694  \n",
              "34     0.465861  \n",
              "125    0.449582  \n",
              "41     0.337932  \n",
              "107    0.312169  \n",
              "82     0.276961  \n",
              "21     0.240359  \n",
              "173    0.225531  \n",
              "631    0.177400  \n",
              "960    0.174211  "
            ],
            "text/html": [
              "\n",
              "  <div id=\"df-6ac0e520-7e6c-45f0-9a04-06f573518cae\" class=\"colab-df-container\">\n",
              "    <div>\n",
              "<style scoped>\n",
              "    .dataframe tbody tr th:only-of-type {\n",
              "        vertical-align: middle;\n",
              "    }\n",
              "\n",
              "    .dataframe tbody tr th {\n",
              "        vertical-align: top;\n",
              "    }\n",
              "\n",
              "    .dataframe thead th {\n",
              "        text-align: right;\n",
              "    }\n",
              "</style>\n",
              "<table border=\"1\" class=\"dataframe\">\n",
              "  <thead>\n",
              "    <tr style=\"text-align: right;\">\n",
              "      <th></th>\n",
              "      <th>English</th>\n",
              "      <th>Genres</th>\n",
              "      <th>Score</th>\n",
              "      <th>Type</th>\n",
              "      <th>Similarity</th>\n",
              "    </tr>\n",
              "  </thead>\n",
              "  <tbody>\n",
              "    <tr>\n",
              "      <th>841</th>\n",
              "      <td>Attack on Titan: The Roar of Awakening</td>\n",
              "      <td>ActionAction, DramaDrama, SuspenseSuspense</td>\n",
              "      <td>7.88</td>\n",
              "      <td>Movie</td>\n",
              "      <td>0.479694</td>\n",
              "    </tr>\n",
              "    <tr>\n",
              "      <th>34</th>\n",
              "      <td>Attack on Titan: Final Season</td>\n",
              "      <td>ActionAction, DramaDrama, SuspenseSuspense</td>\n",
              "      <td>8.79</td>\n",
              "      <td>TV</td>\n",
              "      <td>0.465861</td>\n",
              "    </tr>\n",
              "    <tr>\n",
              "      <th>125</th>\n",
              "      <td>Attack on Titan Season 2</td>\n",
              "      <td>ActionAction, DramaDrama, SuspenseSuspense</td>\n",
              "      <td>8.51</td>\n",
              "      <td>TV</td>\n",
              "      <td>0.449582</td>\n",
              "    </tr>\n",
              "    <tr>\n",
              "      <th>41</th>\n",
              "      <td>Attack on Titan: Final Season Part 2</td>\n",
              "      <td>ActionAction, DramaDrama, SuspenseSuspense</td>\n",
              "      <td>8.76</td>\n",
              "      <td>TV</td>\n",
              "      <td>0.337932</td>\n",
              "    </tr>\n",
              "    <tr>\n",
              "      <th>107</th>\n",
              "      <td>Attack on Titan</td>\n",
              "      <td>ActionAction, Award WinningAward Winning, Dram...</td>\n",
              "      <td>8.55</td>\n",
              "      <td>TV</td>\n",
              "      <td>0.312169</td>\n",
              "    </tr>\n",
              "    <tr>\n",
              "      <th>82</th>\n",
              "      <td>Attack on Titan Season 3</td>\n",
              "      <td>ActionAction, DramaDrama, SuspenseSuspense</td>\n",
              "      <td>8.62</td>\n",
              "      <td>TV</td>\n",
              "      <td>0.276961</td>\n",
              "    </tr>\n",
              "    <tr>\n",
              "      <th>21</th>\n",
              "      <td>Attack on Titan: Final Season - The Final Chap...</td>\n",
              "      <td>ActionAction, DramaDrama, SuspenseSuspense</td>\n",
              "      <td>8.90</td>\n",
              "      <td>TV Special</td>\n",
              "      <td>0.240359</td>\n",
              "    </tr>\n",
              "    <tr>\n",
              "      <th>173</th>\n",
              "      <td>Attack on Titan: No Regrets</td>\n",
              "      <td>NaN</td>\n",
              "      <td>8.42</td>\n",
              "      <td>OVA</td>\n",
              "      <td>0.225531</td>\n",
              "    </tr>\n",
              "    <tr>\n",
              "      <th>631</th>\n",
              "      <td>Classroom of the Elite III</td>\n",
              "      <td>DramaDrama, SuspenseSuspense</td>\n",
              "      <td>8.00</td>\n",
              "      <td>TV</td>\n",
              "      <td>0.177400</td>\n",
              "    </tr>\n",
              "    <tr>\n",
              "      <th>960</th>\n",
              "      <td>Attack on Titan: Lost Girls</td>\n",
              "      <td>ActionAction, DramaDrama</td>\n",
              "      <td>7.82</td>\n",
              "      <td>OVA</td>\n",
              "      <td>0.174211</td>\n",
              "    </tr>\n",
              "  </tbody>\n",
              "</table>\n",
              "</div>\n",
              "    <div class=\"colab-df-buttons\">\n",
              "\n",
              "  <div class=\"colab-df-container\">\n",
              "    <button class=\"colab-df-convert\" onclick=\"convertToInteractive('df-6ac0e520-7e6c-45f0-9a04-06f573518cae')\"\n",
              "            title=\"Convert this dataframe to an interactive table.\"\n",
              "            style=\"display:none;\">\n",
              "\n",
              "  <svg xmlns=\"http://www.w3.org/2000/svg\" height=\"24px\" viewBox=\"0 -960 960 960\">\n",
              "    <path d=\"M120-120v-720h720v720H120Zm60-500h600v-160H180v160Zm220 220h160v-160H400v160Zm0 220h160v-160H400v160ZM180-400h160v-160H180v160Zm440 0h160v-160H620v160ZM180-180h160v-160H180v160Zm440 0h160v-160H620v160Z\"/>\n",
              "  </svg>\n",
              "    </button>\n",
              "\n",
              "  <style>\n",
              "    .colab-df-container {\n",
              "      display:flex;\n",
              "      gap: 12px;\n",
              "    }\n",
              "\n",
              "    .colab-df-convert {\n",
              "      background-color: #E8F0FE;\n",
              "      border: none;\n",
              "      border-radius: 50%;\n",
              "      cursor: pointer;\n",
              "      display: none;\n",
              "      fill: #1967D2;\n",
              "      height: 32px;\n",
              "      padding: 0 0 0 0;\n",
              "      width: 32px;\n",
              "    }\n",
              "\n",
              "    .colab-df-convert:hover {\n",
              "      background-color: #E2EBFA;\n",
              "      box-shadow: 0px 1px 2px rgba(60, 64, 67, 0.3), 0px 1px 3px 1px rgba(60, 64, 67, 0.15);\n",
              "      fill: #174EA6;\n",
              "    }\n",
              "\n",
              "    .colab-df-buttons div {\n",
              "      margin-bottom: 4px;\n",
              "    }\n",
              "\n",
              "    [theme=dark] .colab-df-convert {\n",
              "      background-color: #3B4455;\n",
              "      fill: #D2E3FC;\n",
              "    }\n",
              "\n",
              "    [theme=dark] .colab-df-convert:hover {\n",
              "      background-color: #434B5C;\n",
              "      box-shadow: 0px 1px 3px 1px rgba(0, 0, 0, 0.15);\n",
              "      filter: drop-shadow(0px 1px 2px rgba(0, 0, 0, 0.3));\n",
              "      fill: #FFFFFF;\n",
              "    }\n",
              "  </style>\n",
              "\n",
              "    <script>\n",
              "      const buttonEl =\n",
              "        document.querySelector('#df-6ac0e520-7e6c-45f0-9a04-06f573518cae button.colab-df-convert');\n",
              "      buttonEl.style.display =\n",
              "        google.colab.kernel.accessAllowed ? 'block' : 'none';\n",
              "\n",
              "      async function convertToInteractive(key) {\n",
              "        const element = document.querySelector('#df-6ac0e520-7e6c-45f0-9a04-06f573518cae');\n",
              "        const dataTable =\n",
              "          await google.colab.kernel.invokeFunction('convertToInteractive',\n",
              "                                                    [key], {});\n",
              "        if (!dataTable) return;\n",
              "\n",
              "        const docLinkHtml = 'Like what you see? Visit the ' +\n",
              "          '<a target=\"_blank\" href=https://colab.research.google.com/notebooks/data_table.ipynb>data table notebook</a>'\n",
              "          + ' to learn more about interactive tables.';\n",
              "        element.innerHTML = '';\n",
              "        dataTable['output_type'] = 'display_data';\n",
              "        await google.colab.output.renderOutput(dataTable, element);\n",
              "        const docLink = document.createElement('div');\n",
              "        docLink.innerHTML = docLinkHtml;\n",
              "        element.appendChild(docLink);\n",
              "      }\n",
              "    </script>\n",
              "  </div>\n",
              "\n",
              "\n",
              "    <div id=\"df-c30e7f49-4a21-4b8a-9984-46bb0b74f7c3\">\n",
              "      <button class=\"colab-df-quickchart\" onclick=\"quickchart('df-c30e7f49-4a21-4b8a-9984-46bb0b74f7c3')\"\n",
              "                title=\"Suggest charts\"\n",
              "                style=\"display:none;\">\n",
              "\n",
              "<svg xmlns=\"http://www.w3.org/2000/svg\" height=\"24px\"viewBox=\"0 0 24 24\"\n",
              "     width=\"24px\">\n",
              "    <g>\n",
              "        <path d=\"M19 3H5c-1.1 0-2 .9-2 2v14c0 1.1.9 2 2 2h14c1.1 0 2-.9 2-2V5c0-1.1-.9-2-2-2zM9 17H7v-7h2v7zm4 0h-2V7h2v10zm4 0h-2v-4h2v4z\"/>\n",
              "    </g>\n",
              "</svg>\n",
              "      </button>\n",
              "\n",
              "<style>\n",
              "  .colab-df-quickchart {\n",
              "      --bg-color: #E8F0FE;\n",
              "      --fill-color: #1967D2;\n",
              "      --hover-bg-color: #E2EBFA;\n",
              "      --hover-fill-color: #174EA6;\n",
              "      --disabled-fill-color: #AAA;\n",
              "      --disabled-bg-color: #DDD;\n",
              "  }\n",
              "\n",
              "  [theme=dark] .colab-df-quickchart {\n",
              "      --bg-color: #3B4455;\n",
              "      --fill-color: #D2E3FC;\n",
              "      --hover-bg-color: #434B5C;\n",
              "      --hover-fill-color: #FFFFFF;\n",
              "      --disabled-bg-color: #3B4455;\n",
              "      --disabled-fill-color: #666;\n",
              "  }\n",
              "\n",
              "  .colab-df-quickchart {\n",
              "    background-color: var(--bg-color);\n",
              "    border: none;\n",
              "    border-radius: 50%;\n",
              "    cursor: pointer;\n",
              "    display: none;\n",
              "    fill: var(--fill-color);\n",
              "    height: 32px;\n",
              "    padding: 0;\n",
              "    width: 32px;\n",
              "  }\n",
              "\n",
              "  .colab-df-quickchart:hover {\n",
              "    background-color: var(--hover-bg-color);\n",
              "    box-shadow: 0 1px 2px rgba(60, 64, 67, 0.3), 0 1px 3px 1px rgba(60, 64, 67, 0.15);\n",
              "    fill: var(--button-hover-fill-color);\n",
              "  }\n",
              "\n",
              "  .colab-df-quickchart-complete:disabled,\n",
              "  .colab-df-quickchart-complete:disabled:hover {\n",
              "    background-color: var(--disabled-bg-color);\n",
              "    fill: var(--disabled-fill-color);\n",
              "    box-shadow: none;\n",
              "  }\n",
              "\n",
              "  .colab-df-spinner {\n",
              "    border: 2px solid var(--fill-color);\n",
              "    border-color: transparent;\n",
              "    border-bottom-color: var(--fill-color);\n",
              "    animation:\n",
              "      spin 1s steps(1) infinite;\n",
              "  }\n",
              "\n",
              "  @keyframes spin {\n",
              "    0% {\n",
              "      border-color: transparent;\n",
              "      border-bottom-color: var(--fill-color);\n",
              "      border-left-color: var(--fill-color);\n",
              "    }\n",
              "    20% {\n",
              "      border-color: transparent;\n",
              "      border-left-color: var(--fill-color);\n",
              "      border-top-color: var(--fill-color);\n",
              "    }\n",
              "    30% {\n",
              "      border-color: transparent;\n",
              "      border-left-color: var(--fill-color);\n",
              "      border-top-color: var(--fill-color);\n",
              "      border-right-color: var(--fill-color);\n",
              "    }\n",
              "    40% {\n",
              "      border-color: transparent;\n",
              "      border-right-color: var(--fill-color);\n",
              "      border-top-color: var(--fill-color);\n",
              "    }\n",
              "    60% {\n",
              "      border-color: transparent;\n",
              "      border-right-color: var(--fill-color);\n",
              "    }\n",
              "    80% {\n",
              "      border-color: transparent;\n",
              "      border-right-color: var(--fill-color);\n",
              "      border-bottom-color: var(--fill-color);\n",
              "    }\n",
              "    90% {\n",
              "      border-color: transparent;\n",
              "      border-bottom-color: var(--fill-color);\n",
              "    }\n",
              "  }\n",
              "</style>\n",
              "\n",
              "      <script>\n",
              "        async function quickchart(key) {\n",
              "          const quickchartButtonEl =\n",
              "            document.querySelector('#' + key + ' button');\n",
              "          quickchartButtonEl.disabled = true;  // To prevent multiple clicks.\n",
              "          quickchartButtonEl.classList.add('colab-df-spinner');\n",
              "          try {\n",
              "            const charts = await google.colab.kernel.invokeFunction(\n",
              "                'suggestCharts', [key], {});\n",
              "          } catch (error) {\n",
              "            console.error('Error during call to suggestCharts:', error);\n",
              "          }\n",
              "          quickchartButtonEl.classList.remove('colab-df-spinner');\n",
              "          quickchartButtonEl.classList.add('colab-df-quickchart-complete');\n",
              "        }\n",
              "        (() => {\n",
              "          let quickchartButtonEl =\n",
              "            document.querySelector('#df-c30e7f49-4a21-4b8a-9984-46bb0b74f7c3 button');\n",
              "          quickchartButtonEl.style.display =\n",
              "            google.colab.kernel.accessAllowed ? 'block' : 'none';\n",
              "        })();\n",
              "      </script>\n",
              "    </div>\n",
              "\n",
              "  <div id=\"id_4127e0d8-3aaf-4737-8a2f-7b3ba76d43ce\">\n",
              "    <style>\n",
              "      .colab-df-generate {\n",
              "        background-color: #E8F0FE;\n",
              "        border: none;\n",
              "        border-radius: 50%;\n",
              "        cursor: pointer;\n",
              "        display: none;\n",
              "        fill: #1967D2;\n",
              "        height: 32px;\n",
              "        padding: 0 0 0 0;\n",
              "        width: 32px;\n",
              "      }\n",
              "\n",
              "      .colab-df-generate:hover {\n",
              "        background-color: #E2EBFA;\n",
              "        box-shadow: 0px 1px 2px rgba(60, 64, 67, 0.3), 0px 1px 3px 1px rgba(60, 64, 67, 0.15);\n",
              "        fill: #174EA6;\n",
              "      }\n",
              "\n",
              "      [theme=dark] .colab-df-generate {\n",
              "        background-color: #3B4455;\n",
              "        fill: #D2E3FC;\n",
              "      }\n",
              "\n",
              "      [theme=dark] .colab-df-generate:hover {\n",
              "        background-color: #434B5C;\n",
              "        box-shadow: 0px 1px 3px 1px rgba(0, 0, 0, 0.15);\n",
              "        filter: drop-shadow(0px 1px 2px rgba(0, 0, 0, 0.3));\n",
              "        fill: #FFFFFF;\n",
              "      }\n",
              "    </style>\n",
              "    <button class=\"colab-df-generate\" onclick=\"generateWithVariable('recommendations')\"\n",
              "            title=\"Generate code using this dataframe.\"\n",
              "            style=\"display:none;\">\n",
              "\n",
              "  <svg xmlns=\"http://www.w3.org/2000/svg\" height=\"24px\"viewBox=\"0 0 24 24\"\n",
              "       width=\"24px\">\n",
              "    <path d=\"M7,19H8.4L18.45,9,17,7.55,7,17.6ZM5,21V16.75L18.45,3.32a2,2,0,0,1,2.83,0l1.4,1.43a1.91,1.91,0,0,1,.58,1.4,1.91,1.91,0,0,1-.58,1.4L9.25,21ZM18.45,9,17,7.55Zm-12,3A5.31,5.31,0,0,0,4.9,8.1,5.31,5.31,0,0,0,1,6.5,5.31,5.31,0,0,0,4.9,4.9,5.31,5.31,0,0,0,6.5,1,5.31,5.31,0,0,0,8.1,4.9,5.31,5.31,0,0,0,12,6.5,5.46,5.46,0,0,0,6.5,12Z\"/>\n",
              "  </svg>\n",
              "    </button>\n",
              "    <script>\n",
              "      (() => {\n",
              "      const buttonEl =\n",
              "        document.querySelector('#id_4127e0d8-3aaf-4737-8a2f-7b3ba76d43ce button.colab-df-generate');\n",
              "      buttonEl.style.display =\n",
              "        google.colab.kernel.accessAllowed ? 'block' : 'none';\n",
              "\n",
              "      buttonEl.onclick = () => {\n",
              "        google.colab.notebook.generateWithVariable('recommendations');\n",
              "      }\n",
              "      })();\n",
              "    </script>\n",
              "  </div>\n",
              "\n",
              "    </div>\n",
              "  </div>\n"
            ],
            "application/vnd.google.colaboratory.intrinsic+json": {
              "type": "dataframe",
              "variable_name": "recommendations",
              "summary": "{\n  \"name\": \"recommendations\",\n  \"rows\": 10,\n  \"fields\": [\n    {\n      \"column\": \"English\",\n      \"properties\": {\n        \"dtype\": \"string\",\n        \"num_unique_values\": 10,\n        \"samples\": [\n          \"Classroom of the Elite III\",\n          \"Attack on Titan: Final Season\",\n          \"Attack on Titan Season 3\"\n        ],\n        \"semantic_type\": \"\",\n        \"description\": \"\"\n      }\n    },\n    {\n      \"column\": \"Genres\",\n      \"properties\": {\n        \"dtype\": \"category\",\n        \"num_unique_values\": 4,\n        \"samples\": [\n          \"ActionAction, Award WinningAward Winning, DramaDrama, SuspenseSuspense\",\n          \"ActionAction, DramaDrama\",\n          \"ActionAction, DramaDrama, SuspenseSuspense\"\n        ],\n        \"semantic_type\": \"\",\n        \"description\": \"\"\n      }\n    },\n    {\n      \"column\": \"Score\",\n      \"properties\": {\n        \"dtype\": \"number\",\n        \"std\": 0.39096035604649215,\n        \"min\": 7.82,\n        \"max\": 8.9,\n        \"num_unique_values\": 10,\n        \"samples\": [\n          8.0,\n          8.79,\n          8.62\n        ],\n        \"semantic_type\": \"\",\n        \"description\": \"\"\n      }\n    },\n    {\n      \"column\": \"Type\",\n      \"properties\": {\n        \"dtype\": \"category\",\n        \"num_unique_values\": 4,\n        \"samples\": [\n          \"TV\",\n          \"OVA\",\n          \"Movie\"\n        ],\n        \"semantic_type\": \"\",\n        \"description\": \"\"\n      }\n    },\n    {\n      \"column\": \"Similarity\",\n      \"properties\": {\n        \"dtype\": \"number\",\n        \"std\": 0.11656990618315621,\n        \"min\": 0.17421138549723705,\n        \"max\": 0.4796937784578078,\n        \"num_unique_values\": 10,\n        \"samples\": [\n          0.17739988053150507,\n          0.4658613001047205,\n          0.27696128718718427\n        ],\n        \"semantic_type\": \"\",\n        \"description\": \"\"\n      }\n    }\n  ]\n}"
            }
          },
          "metadata": {}
        }
      ],
      "source": [
        "# Test rekomendasi dengan output yang konsisten\n",
        "print(\"\\n=== HASIL REKOMENDASI ===\")\n",
        "test_anime = \"Attack on Titan Season 3 Part 2\"\n",
        "print(f\"Input: '{test_anime}'\")\n",
        "\n",
        "recommendations = get_recommendations(test_anime, top_n=10)\n",
        "if recommendations is not None:\n",
        "    print(\"\\nOutput Rekomendasi:\")\n",
        "    for i, row in recommendations.iterrows():\n",
        "        print(f\"{recommendations.index.get_loc(i)+1}. {row['English']} (Similarity: {row['Similarity']:.4f})\")\n",
        "\n",
        "    # Tampilkan dalam bentuk tabel\n",
        "    display(recommendations)\n",
        "else:\n",
        "    print(\"Anime tidak ditemukan\")"
      ]
    },
    {
      "cell_type": "markdown",
      "source": [
        "### Hasil Rekomendasi\n",
        "\n",
        "Pada tahap ini, sistem rekomendasi diuji menggunakan contoh judul anime, yaitu **\"Attack on Titan Season 3 Part 2\"**. Proses pengujian dilakukan untuk memastikan model dapat memberikan hasil rekomendasi yang relevan berdasarkan kemiripan konten.\n",
        "\n",
        "Langkah-langkah yang dilakukan:\n",
        "\n",
        "* Judul anime digunakan sebagai input.\n",
        "* Sistem menghitung kesamaan konten menggunakan **cosine similarity**.\n",
        "* Sistem mengembalikan **10 anime paling mirip** berdasarkan nilai similarity tertinggi.\n",
        "* Hasil ditampilkan dalam bentuk daftar dan tabel agar mudah dibaca.\n",
        "\n",
        "Rekomendasi yang muncul menunjukkan sistem mampu mengenali keterkaitan antara berbagai musim dan versi dari serial \"Attack on Titan\", yang menandakan bahwa representasi konten dan perhitungan similarity bekerja dengan baik.\n"
      ],
      "metadata": {
        "id": "OIn-2VAHZXST"
      }
    },
    {
      "cell_type": "markdown",
      "metadata": {
        "id": "wkQOi5iwBJwh"
      },
      "source": [
        "## 7. Evaluasi\n",
        "\n",
        "Mengevaluasi performa sistem rekomendasi menggunakan metrik Precision@K."
      ]
    },
    {
      "cell_type": "code",
      "execution_count": 25,
      "metadata": {
        "id": "ECI5054IBJwh"
      },
      "outputs": [],
      "source": [
        "# Fungsi evaluasi Precision@K\n",
        "def precision_at_k(actual_title, recommended_df, k=10, genre_threshold=0.6):\n",
        "    try:\n",
        "        target_row = anime_df[anime_df['English'] == actual_title]\n",
        "        if len(target_row) == 0:\n",
        "            return 0\n",
        "\n",
        "        target_genres_str = target_row['Genres'].iloc[0]\n",
        "        if pd.isna(target_genres_str) or target_genres_str == 'Unknown':\n",
        "            return 0\n",
        "\n",
        "        target_genres = set([g.strip().lower() for g in target_genres_str.split(',')])\n",
        "        matches = 0\n",
        "\n",
        "        for title in recommended_df['English'].head(k):\n",
        "            rec_row = anime_df[anime_df['English'] == title]\n",
        "            if len(rec_row) == 0:\n",
        "                continue\n",
        "\n",
        "            rec_genres_str = rec_row['Genres'].iloc[0]\n",
        "            if pd.isna(rec_genres_str) or rec_genres_str == 'Unknown':\n",
        "                continue\n",
        "\n",
        "            rec_genres = set([g.strip().lower() for g in rec_genres_str.split(',')])\n",
        "\n",
        "            if len(target_genres) > 0 and len(rec_genres) > 0:\n",
        "                overlap = len(target_genres.intersection(rec_genres)) / len(target_genres)\n",
        "                if overlap >= genre_threshold:\n",
        "                    matches += 1\n",
        "\n",
        "        return matches / k\n",
        "    except:\n",
        "        return 0"
      ]
    },
    {
      "cell_type": "code",
      "execution_count": 26,
      "metadata": {
        "colab": {
          "base_uri": "https://localhost:8080/"
        },
        "id": "v9RZkDsoBJwh",
        "outputId": "e2c427fc-f61e-4d72-f6f8-5c1c21e61965"
      },
      "outputs": [
        {
          "output_type": "stream",
          "name": "stdout",
          "text": [
            "\n",
            "=== EVALUASI ===\n",
            "Precision@10 untuk 'Attack on Titan Season 3 Part 2': 0.90\n",
            "Precision@10 untuk 'Fullmetal Alchemist: Brotherhood': 0.40\n",
            "Precision@10 untuk 'Steins;Gate': 0.70\n",
            "\n",
            "Rata-rata Precision@10: 0.67\n"
          ]
        }
      ],
      "source": [
        "# Evaluasi beberapa anime\n",
        "print(\"\\n=== EVALUASI ===\")\n",
        "test_animes = [\"Attack on Titan Season 3 Part 2\", \"Fullmetal Alchemist: Brotherhood\", \"Steins;Gate\"]\n",
        "precisions = []\n",
        "\n",
        "for anime in test_animes:\n",
        "    recs = get_recommendations(anime, top_n=10)\n",
        "    if recs is not None:\n",
        "        precision = precision_at_k(anime, recs, k=10)\n",
        "        precisions.append(precision)\n",
        "        print(f\"Precision@10 untuk '{anime}': {precision:.2f}\")\n",
        "\n",
        "if precisions:\n",
        "    avg_precision = np.mean(precisions)\n",
        "    print(f\"\\nRata-rata Precision@10: {avg_precision:.2f}\")"
      ]
    },
    {
      "cell_type": "markdown",
      "source": [
        "### Evaluasi Model Rekomendasi\n",
        "\n",
        "Pada tahap ini dilakukan evaluasi terhadap performa sistem rekomendasi menggunakan metrik **Precision\\@K**, khususnya **Precision\\@10**. Metrik ini mengukur seberapa relevan rekomendasi yang diberikan oleh sistem, dengan fokus pada kesamaan genre antara anime input dan hasil rekomendasinya.\n",
        "\n",
        "#### Penjelasan Precision\\@K:\n",
        "\n",
        "* Precision\\@K = (Jumlah rekomendasi yang relevan) / K\n",
        "* Rekomendasi dianggap relevan jika memiliki kemiripan genre minimal 60% dengan anime input.\n",
        "\n",
        "#### Langkah Evaluasi:\n",
        "\n",
        "1. Dipilih tiga judul anime populer untuk pengujian:\n",
        "\n",
        "   * *Attack on Titan Season 3 Part 2*\n",
        "   * *Fullmetal Alchemist: Brotherhood*\n",
        "   * *Steins;Gate*\n",
        "2. Untuk masing-masing judul, diambil 10 rekomendasi teratas dari sistem.\n",
        "3. Precision\\@10 dihitung berdasarkan kecocokan genre.\n",
        "4. Hasil akhir dihitung rata-ratanya.\n",
        "\n",
        "#### Hasil Precision\\@10:\n",
        "\n",
        "* *Attack on Titan Season 3 Part 2*: **0.90**\n",
        "* *Fullmetal Alchemist: Brotherhood*: **0.40**\n",
        "* *Steins;Gate*: **0.70**\n",
        "\n",
        "**Rata-rata Precision\\@10:** **0.67**\n",
        "\n",
        "> Nilai Precision yang cukup tinggi, terutama pada anime dengan genre yang kuat dan khas, menunjukkan bahwa sistem mampu memberikan rekomendasi yang relevan berdasarkan konten."
      ],
      "metadata": {
        "id": "Nk7ar_bPaLGG"
      }
    },
    {
      "cell_type": "markdown",
      "metadata": {
        "id": "jtoif9L4BJwh"
      },
      "source": [
        "## 8. Kesimpulan\n",
        "\n",
        "Sistem rekomendasi berhasil dibangun dengan spesifikasi sebagai berikut:\n",
        "\n",
        "* **Dataset**: 1000 anime dengan berbagai fitur seperti *Title*, *Genres*, *Description*, *Score*, dan lainnya.\n",
        "* **Pendekatan**: Content-Based Filtering\n",
        "* **Evaluasi**: Rata-rata Precision\\@10 sebesar **0.67**\n",
        "* **Fungsi utama**: Memberikan rekomendasi berdasarkan kemiripan konten antara anime\n",
        "\n",
        "#### Kelebihan Sistem:\n",
        "\n",
        "* Tidak memerlukan data interaksi pengguna (seperti rating atau klik).\n",
        "* Dapat merekomendasikan anime baru yang belum pernah ditonton oleh pengguna lain.\n",
        "* Alasan rekomendasi dapat ditelusuri karena berbasis fitur konten.\n",
        "\n",
        "#### Keterbatasan Sistem:\n",
        "\n",
        "* Bergantung penuh pada kualitas dan kelengkapan fitur konten yang tersedia.\n",
        "* Tidak dapat memahami preferensi pengguna yang kompleks atau kontekstual.\n",
        "* Rentan terhadap over-specialization, yaitu memberikan rekomendasi yang terlalu mirip satu sama lain.\n"
      ]
    }
  ],
  "metadata": {
    "kernelspec": {
      "display_name": "Python 3",
      "language": "python",
      "name": "python3"
    },
    "language_info": {
      "codemirror_mode": {
        "name": "ipython",
        "version": 3
      },
      "file_extension": ".py",
      "mimetype": "text/x-python",
      "name": "python",
      "nbconvert_exporter": "python",
      "pygments_lexer": "ipython3",
      "version": "3.8.10"
    },
    "colab": {
      "provenance": []
    }
  },
  "nbformat": 4,
  "nbformat_minor": 0
}